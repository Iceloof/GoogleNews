{
 "metadata": {
  "language_info": {
   "codemirror_mode": {
    "name": "ipython",
    "version": 3
   },
   "file_extension": ".py",
   "mimetype": "text/x-python",
   "name": "python",
   "nbconvert_exporter": "python",
   "pygments_lexer": "ipython3",
   "version": "3.8.11-final"
  },
  "orig_nbformat": 2,
  "kernelspec": {
   "name": "python381164bit8a9ab03e50664ab184c2d650ec9b678f",
   "display_name": "Python 3.8.11 64-bit"
  }
 },
 "nbformat": 4,
 "nbformat_minor": 2,
 "cells": [
  {
   "cell_type": "code",
   "execution_count": 2,
   "metadata": {},
   "outputs": [],
   "source": [
    "from GoogleNews import GoogleNews\n",
    "\n",
    "google_news = GoogleNews()\n",
    "google_news.get_news('Artificil Intelligence')"
   ]
  },
  {
   "cell_type": "code",
   "execution_count": 3,
   "metadata": {},
   "outputs": [
    {
     "output_type": "stream",
     "name": "stdout",
     "text": [
      "'<' not supported between instances of 'float' and 'datetime.datetime'\n"
     ]
    },
    {
     "output_type": "execute_result",
     "data": {
      "text/plain": [
       "                                                title  \\\n",
       "63  Importance of Artificial Intelligence and its ...   \n",
       "10  Think, fight, feel: how video game artificial ...   \n",
       "73  Artificial intelligence, augmented reality, ed...   \n",
       "30  Artificial Intelligence Chatbot Attempts to Mi...   \n",
       "27  Artificial Intelligence and Anesthesiology: Ne...   \n",
       "\n",
       "                     datetime  \\\n",
       "63                        NaT   \n",
       "10 2021-07-19 10:52:04.870402   \n",
       "73 2021-07-22 10:52:04.893623   \n",
       "30 2021-07-25 08:52:04.877825   \n",
       "27 2021-07-13 10:52:04.876716   \n",
       "\n",
       "                                                 link  \\\n",
       "63  http://news.google.com/./articles/CBMicmh0dHBz...   \n",
       "10  http://news.google.com/./articles/CAIiEAh0ylR3...   \n",
       "73  http://news.google.com/./articles/CAIiEKpFjh-_...   \n",
       "30  http://news.google.com/./articles/CAIiEOyOvjXL...   \n",
       "27  http://news.google.com/./articles/CAIiENvz9OMG...   \n",
       "\n",
       "                                                  img                     site  \n",
       "63  https://lh6.googleusercontent.com/proxy/wd8qND...  The Times of India Blog  \n",
       "10  https://lh3.googleusercontent.com/sAoLeOL09uMh...             The Guardian  \n",
       "73  https://lh3.googleusercontent.com/Q-0xisFhdjg0...           Times of India  \n",
       "30  https://lh3.googleusercontent.com/BhNGGMqEmXad...               Tech Times  \n",
       "27  https://lh3.googleusercontent.com/2qF7REaTrmGp...      HealthTech Magazine  "
      ],
      "text/html": "<div>\n<style scoped>\n    .dataframe tbody tr th:only-of-type {\n        vertical-align: middle;\n    }\n\n    .dataframe tbody tr th {\n        vertical-align: top;\n    }\n\n    .dataframe thead th {\n        text-align: right;\n    }\n</style>\n<table border=\"1\" class=\"dataframe\">\n  <thead>\n    <tr style=\"text-align: right;\">\n      <th></th>\n      <th>title</th>\n      <th>datetime</th>\n      <th>link</th>\n      <th>img</th>\n      <th>site</th>\n    </tr>\n  </thead>\n  <tbody>\n    <tr>\n      <th>63</th>\n      <td>Importance of Artificial Intelligence and its ...</td>\n      <td>NaT</td>\n      <td>http://news.google.com/./articles/CBMicmh0dHBz...</td>\n      <td>https://lh6.googleusercontent.com/proxy/wd8qND...</td>\n      <td>The Times of India Blog</td>\n    </tr>\n    <tr>\n      <th>10</th>\n      <td>Think, fight, feel: how video game artificial ...</td>\n      <td>2021-07-19 10:52:04.870402</td>\n      <td>http://news.google.com/./articles/CAIiEAh0ylR3...</td>\n      <td>https://lh3.googleusercontent.com/sAoLeOL09uMh...</td>\n      <td>The Guardian</td>\n    </tr>\n    <tr>\n      <th>73</th>\n      <td>Artificial intelligence, augmented reality, ed...</td>\n      <td>2021-07-22 10:52:04.893623</td>\n      <td>http://news.google.com/./articles/CAIiEKpFjh-_...</td>\n      <td>https://lh3.googleusercontent.com/Q-0xisFhdjg0...</td>\n      <td>Times of India</td>\n    </tr>\n    <tr>\n      <th>30</th>\n      <td>Artificial Intelligence Chatbot Attempts to Mi...</td>\n      <td>2021-07-25 08:52:04.877825</td>\n      <td>http://news.google.com/./articles/CAIiEOyOvjXL...</td>\n      <td>https://lh3.googleusercontent.com/BhNGGMqEmXad...</td>\n      <td>Tech Times</td>\n    </tr>\n    <tr>\n      <th>27</th>\n      <td>Artificial Intelligence and Anesthesiology: Ne...</td>\n      <td>2021-07-13 10:52:04.876716</td>\n      <td>http://news.google.com/./articles/CAIiENvz9OMG...</td>\n      <td>https://lh3.googleusercontent.com/2qF7REaTrmGp...</td>\n      <td>HealthTech Magazine</td>\n    </tr>\n  </tbody>\n</table>\n</div>"
     },
     "metadata": {},
     "execution_count": 3
    }
   ],
   "source": [
    "import pandas as pd\n",
    "news_df = pd.DataFrame(google_news.results(sort=True))\n",
    "news_df['link'] = 'http://'+news_df['link']\n",
    "news_df = news_df[['title','datetime','link','img','site']]\n",
    "news_df.sample(5)"
   ]
  },
  {
   "cell_type": "code",
   "execution_count": null,
   "metadata": {},
   "outputs": [],
   "source": []
  }
 ]
}
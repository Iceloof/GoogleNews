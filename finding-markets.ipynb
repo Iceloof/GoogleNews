{
 "metadata": {
  "language_info": {
   "codemirror_mode": {
    "name": "ipython",
    "version": 3
   },
   "file_extension": ".py",
   "mimetype": "text/x-python",
   "name": "python",
   "nbconvert_exporter": "python",
   "pygments_lexer": "ipython3",
   "version": "3.8.11-final"
  },
  "orig_nbformat": 2,
  "kernelspec": {
   "name": "python381164bit3811pyenv376fd6ccbe0e44ce9eb2374c686541fe",
   "display_name": "Python 3.8.11 64-bit ('3.8.11': pyenv)"
  }
 },
 "nbformat": 4,
 "nbformat_minor": 2,
 "cells": [
  {
   "cell_type": "code",
   "execution_count": 89,
   "metadata": {},
   "outputs": [
    {
     "output_type": "execute_result",
     "data": {
      "text/plain": [
       "    Country (or territory)    Region  Population % of world         Date  \\\n",
       "77           Guinea (more)    Africa    12907395        NaN   1 Jul 2021   \n",
       "57           Taiwan (more)      Asia    23487509        NaN  30 Jun 2021   \n",
       "131         Georgia (more)      Asia     3728573        NaN   1 Jan 2021   \n",
       "73         Zimbabwe (more)    Africa    15790716        NaN   1 Jul 2021   \n",
       "143           Qatar (more)      Asia     2504910        NaN  30 Jun 2021   \n",
       "177         Bahamas (more)  Americas      393450        NaN   1 Jul 2021   \n",
       "163         Comoros (more)    Africa      758316        NaN  15 Dec 2017   \n",
       "20           France (more)    Europe    67427000        NaN   1 Jun 2021   \n",
       "197      Micronesia (more)   Oceania      105754        NaN   1 Jul 2021   \n",
       "148        Slovenia (more)    Europe     2108977        NaN   1 Jan 2021   \n",
       "\n",
       "             Source (official or UN)  \\\n",
       "77    National annual projection[70]   \n",
       "57     Monthly national estimate[53]   \n",
       "131    National annual estimate[120]   \n",
       "73    National annual projection[66]   \n",
       "143   Monthly national estimate[132]   \n",
       "177  National annual projection[160]   \n",
       "163          2017 census result[148]   \n",
       "20     Monthly national estimate[18]   \n",
       "197   National annual projection[91]   \n",
       "148          2021 census result[135]   \n",
       "\n",
       "                                                 Notes  \n",
       "77                                                 NaN  \n",
       "57   Taiwan (Republic of China) also includes the m...  \n",
       "131  Excluding Abkhazia (242,862, census 2011) and ...  \n",
       "73                                                 NaN  \n",
       "143                                                NaN  \n",
       "177                                                NaN  \n",
       "163                                                NaN  \n",
       "20   Demographics of 18 regions of France. Excludin...  \n",
       "197                                                NaN  \n",
       "148                                                NaN  "
      ],
      "text/html": "<div>\n<style scoped>\n    .dataframe tbody tr th:only-of-type {\n        vertical-align: middle;\n    }\n\n    .dataframe tbody tr th {\n        vertical-align: top;\n    }\n\n    .dataframe thead th {\n        text-align: right;\n    }\n</style>\n<table border=\"1\" class=\"dataframe\">\n  <thead>\n    <tr style=\"text-align: right;\">\n      <th></th>\n      <th>Country (or territory)</th>\n      <th>Region</th>\n      <th>Population</th>\n      <th>% of world</th>\n      <th>Date</th>\n      <th>Source (official or UN)</th>\n      <th>Notes</th>\n    </tr>\n  </thead>\n  <tbody>\n    <tr>\n      <th>77</th>\n      <td>Guinea (more)</td>\n      <td>Africa</td>\n      <td>12907395</td>\n      <td>NaN</td>\n      <td>1 Jul 2021</td>\n      <td>National annual projection[70]</td>\n      <td>NaN</td>\n    </tr>\n    <tr>\n      <th>57</th>\n      <td>Taiwan (more)</td>\n      <td>Asia</td>\n      <td>23487509</td>\n      <td>NaN</td>\n      <td>30 Jun 2021</td>\n      <td>Monthly national estimate[53]</td>\n      <td>Taiwan (Republic of China) also includes the m...</td>\n    </tr>\n    <tr>\n      <th>131</th>\n      <td>Georgia (more)</td>\n      <td>Asia</td>\n      <td>3728573</td>\n      <td>NaN</td>\n      <td>1 Jan 2021</td>\n      <td>National annual estimate[120]</td>\n      <td>Excluding Abkhazia (242,862, census 2011) and ...</td>\n    </tr>\n    <tr>\n      <th>73</th>\n      <td>Zimbabwe (more)</td>\n      <td>Africa</td>\n      <td>15790716</td>\n      <td>NaN</td>\n      <td>1 Jul 2021</td>\n      <td>National annual projection[66]</td>\n      <td>NaN</td>\n    </tr>\n    <tr>\n      <th>143</th>\n      <td>Qatar (more)</td>\n      <td>Asia</td>\n      <td>2504910</td>\n      <td>NaN</td>\n      <td>30 Jun 2021</td>\n      <td>Monthly national estimate[132]</td>\n      <td>NaN</td>\n    </tr>\n    <tr>\n      <th>177</th>\n      <td>Bahamas (more)</td>\n      <td>Americas</td>\n      <td>393450</td>\n      <td>NaN</td>\n      <td>1 Jul 2021</td>\n      <td>National annual projection[160]</td>\n      <td>NaN</td>\n    </tr>\n    <tr>\n      <th>163</th>\n      <td>Comoros (more)</td>\n      <td>Africa</td>\n      <td>758316</td>\n      <td>NaN</td>\n      <td>15 Dec 2017</td>\n      <td>2017 census result[148]</td>\n      <td>NaN</td>\n    </tr>\n    <tr>\n      <th>20</th>\n      <td>France (more)</td>\n      <td>Europe</td>\n      <td>67427000</td>\n      <td>NaN</td>\n      <td>1 Jun 2021</td>\n      <td>Monthly national estimate[18]</td>\n      <td>Demographics of 18 regions of France. Excludin...</td>\n    </tr>\n    <tr>\n      <th>197</th>\n      <td>Micronesia (more)</td>\n      <td>Oceania</td>\n      <td>105754</td>\n      <td>NaN</td>\n      <td>1 Jul 2021</td>\n      <td>National annual projection[91]</td>\n      <td>NaN</td>\n    </tr>\n    <tr>\n      <th>148</th>\n      <td>Slovenia (more)</td>\n      <td>Europe</td>\n      <td>2108977</td>\n      <td>NaN</td>\n      <td>1 Jan 2021</td>\n      <td>2021 census result[135]</td>\n      <td>NaN</td>\n    </tr>\n  </tbody>\n</table>\n</div>"
     },
     "metadata": {},
     "execution_count": 89
    }
   ],
   "source": [
    "import pandas as pd\n",
    "\n",
    "countries_by_size = pd.read_html('https://en.wikipedia.org/wiki/List_of_countries_and_dependencies_by_population')[0]\n",
    "countries_by_size.sample(10)"
   ]
  },
  {
   "cell_type": "code",
   "execution_count": 121,
   "metadata": {},
   "outputs": [
    {
     "output_type": "execute_result",
     "data": {
      "text/plain": [
       "0                                           [World]\n",
       "1                                    [China (more)]\n",
       "2                                    [India (more)]\n",
       "3                            [United States (more)]\n",
       "4                                [Indonesia (more)]\n",
       "                           ...                     \n",
       "237                              [Niue (NZ) (more)]\n",
       "238                           [Tokelau (NZ) (more)]\n",
       "239                           [Vatican City (more)]\n",
       "240    [Cocos (Keeling) Islands (Australia) (more)]\n",
       "241                  [Pitcairn Islands (UK) (more)]\n",
       "Name: Country (or territory), Length: 242, dtype: object"
      ]
     },
     "metadata": {},
     "execution_count": 121
    }
   ],
   "source": [
    "import pycountry\n",
    "import string\n",
    "import re\n",
    "\n",
    "\n",
    "allow = string.ascii_letters\n",
    "\n",
    "def search_country_size(country):\n",
    "    try:\n",
    "        res = pycountry.countries.search_fuzzy(country.replace(' (more)',''))\n",
    "        if len(res)==1:\n",
    "            return res[0]\n",
    "    except:\n",
    "        return None\n",
    "\n",
    "\n",
    "countries_by_size['Country (or territory)'].str.split(r'\"(.*)\"')"
   ]
  },
  {
   "cell_type": "code",
   "execution_count": 4,
   "metadata": {},
   "outputs": [
    {
     "output_type": "execute_result",
     "data": {
      "text/plain": [
       "             Country                   Official language  \\\n",
       "180     Saudi Arabia                              Arabic   \n",
       "214           Tuvalu                  English (de facto)   \n",
       "97           Jamaica                             English   \n",
       "94             Italy                             Italian   \n",
       "50            Cyprus               Greek[50] Turkish[50]   \n",
       "43           Comoros              Arabic Comorian French   \n",
       "171           Rwanda  English French Kinyarwanda Swahili   \n",
       "166          Country                   Official language   \n",
       "147          Nigeria                             English   \n",
       "209  Transnistria[a]          Moldovan Russian Ukrainian   \n",
       "\n",
       "                                     Regional language  Minority language  \\\n",
       "180                                                NaN                NaN   \n",
       "214                                                NaN                NaN   \n",
       "97                                                 NaN                NaN   \n",
       "94   French (in Aosta Valley) German (in South Tyro...      Ladin Slovene   \n",
       "50                                                 NaN                NaN   \n",
       "43                                                 NaN                NaN   \n",
       "171                                                NaN                NaN   \n",
       "166                                  Regional language  Minority language   \n",
       "147                                                NaN                NaN   \n",
       "209                                                NaN                NaN   \n",
       "\n",
       "                   National language  Widely spoken Unnamed: 6 Unnamed: 7  \\\n",
       "180                              NaN            NaN        NaN        NaN   \n",
       "214              Tuvaluan (de facto)            NaN        NaN        NaN   \n",
       "97                   Jamaican Patois            NaN        NaN        NaN   \n",
       "94                               NaN            NaN        NaN        NaN   \n",
       "50   Armenian[51] Cypriot Arabic[51]        English        NaN        NaN   \n",
       "43                               NaN            NaN        NaN        NaN   \n",
       "171                              NaN            NaN        NaN        NaN   \n",
       "166                National language  Widely spoken        NaN        NaN   \n",
       "147            Hausa Yoruba Igbo Tiv            NaN        NaN        NaN   \n",
       "209                              NaN            NaN        NaN        NaN   \n",
       "\n",
       "     Unnamed: 8  Unnamed: 9 Unnamed: 10 Unnamed: 11  \n",
       "180         NaN         NaN         NaN         NaN  \n",
       "214         NaN         NaN         NaN         NaN  \n",
       "97          NaN         NaN         NaN         NaN  \n",
       "94          NaN         NaN         NaN         NaN  \n",
       "50          NaN         NaN         NaN         NaN  \n",
       "43          NaN         NaN         NaN         NaN  \n",
       "171         NaN         NaN         NaN         NaN  \n",
       "166         NaN         NaN         NaN         NaN  \n",
       "147         NaN         NaN         NaN         NaN  \n",
       "209         NaN         NaN         NaN         NaN  "
      ],
      "text/html": "<div>\n<style scoped>\n    .dataframe tbody tr th:only-of-type {\n        vertical-align: middle;\n    }\n\n    .dataframe tbody tr th {\n        vertical-align: top;\n    }\n\n    .dataframe thead th {\n        text-align: right;\n    }\n</style>\n<table border=\"1\" class=\"dataframe\">\n  <thead>\n    <tr style=\"text-align: right;\">\n      <th></th>\n      <th>Country</th>\n      <th>Official language</th>\n      <th>Regional language</th>\n      <th>Minority language</th>\n      <th>National language</th>\n      <th>Widely spoken</th>\n      <th>Unnamed: 6</th>\n      <th>Unnamed: 7</th>\n      <th>Unnamed: 8</th>\n      <th>Unnamed: 9</th>\n      <th>Unnamed: 10</th>\n      <th>Unnamed: 11</th>\n    </tr>\n  </thead>\n  <tbody>\n    <tr>\n      <th>180</th>\n      <td>Saudi Arabia</td>\n      <td>Arabic</td>\n      <td>NaN</td>\n      <td>NaN</td>\n      <td>NaN</td>\n      <td>NaN</td>\n      <td>NaN</td>\n      <td>NaN</td>\n      <td>NaN</td>\n      <td>NaN</td>\n      <td>NaN</td>\n      <td>NaN</td>\n    </tr>\n    <tr>\n      <th>214</th>\n      <td>Tuvalu</td>\n      <td>English (de facto)</td>\n      <td>NaN</td>\n      <td>NaN</td>\n      <td>Tuvaluan (de facto)</td>\n      <td>NaN</td>\n      <td>NaN</td>\n      <td>NaN</td>\n      <td>NaN</td>\n      <td>NaN</td>\n      <td>NaN</td>\n      <td>NaN</td>\n    </tr>\n    <tr>\n      <th>97</th>\n      <td>Jamaica</td>\n      <td>English</td>\n      <td>NaN</td>\n      <td>NaN</td>\n      <td>Jamaican Patois</td>\n      <td>NaN</td>\n      <td>NaN</td>\n      <td>NaN</td>\n      <td>NaN</td>\n      <td>NaN</td>\n      <td>NaN</td>\n      <td>NaN</td>\n    </tr>\n    <tr>\n      <th>94</th>\n      <td>Italy</td>\n      <td>Italian</td>\n      <td>French (in Aosta Valley) German (in South Tyro...</td>\n      <td>Ladin Slovene</td>\n      <td>NaN</td>\n      <td>NaN</td>\n      <td>NaN</td>\n      <td>NaN</td>\n      <td>NaN</td>\n      <td>NaN</td>\n      <td>NaN</td>\n      <td>NaN</td>\n    </tr>\n    <tr>\n      <th>50</th>\n      <td>Cyprus</td>\n      <td>Greek[50] Turkish[50]</td>\n      <td>NaN</td>\n      <td>NaN</td>\n      <td>Armenian[51] Cypriot Arabic[51]</td>\n      <td>English</td>\n      <td>NaN</td>\n      <td>NaN</td>\n      <td>NaN</td>\n      <td>NaN</td>\n      <td>NaN</td>\n      <td>NaN</td>\n    </tr>\n    <tr>\n      <th>43</th>\n      <td>Comoros</td>\n      <td>Arabic Comorian French</td>\n      <td>NaN</td>\n      <td>NaN</td>\n      <td>NaN</td>\n      <td>NaN</td>\n      <td>NaN</td>\n      <td>NaN</td>\n      <td>NaN</td>\n      <td>NaN</td>\n      <td>NaN</td>\n      <td>NaN</td>\n    </tr>\n    <tr>\n      <th>171</th>\n      <td>Rwanda</td>\n      <td>English French Kinyarwanda Swahili</td>\n      <td>NaN</td>\n      <td>NaN</td>\n      <td>NaN</td>\n      <td>NaN</td>\n      <td>NaN</td>\n      <td>NaN</td>\n      <td>NaN</td>\n      <td>NaN</td>\n      <td>NaN</td>\n      <td>NaN</td>\n    </tr>\n    <tr>\n      <th>166</th>\n      <td>Country</td>\n      <td>Official language</td>\n      <td>Regional language</td>\n      <td>Minority language</td>\n      <td>National language</td>\n      <td>Widely spoken</td>\n      <td>NaN</td>\n      <td>NaN</td>\n      <td>NaN</td>\n      <td>NaN</td>\n      <td>NaN</td>\n      <td>NaN</td>\n    </tr>\n    <tr>\n      <th>147</th>\n      <td>Nigeria</td>\n      <td>English</td>\n      <td>NaN</td>\n      <td>NaN</td>\n      <td>Hausa Yoruba Igbo Tiv</td>\n      <td>NaN</td>\n      <td>NaN</td>\n      <td>NaN</td>\n      <td>NaN</td>\n      <td>NaN</td>\n      <td>NaN</td>\n      <td>NaN</td>\n    </tr>\n    <tr>\n      <th>209</th>\n      <td>Transnistria[a]</td>\n      <td>Moldovan Russian Ukrainian</td>\n      <td>NaN</td>\n      <td>NaN</td>\n      <td>NaN</td>\n      <td>NaN</td>\n      <td>NaN</td>\n      <td>NaN</td>\n      <td>NaN</td>\n      <td>NaN</td>\n      <td>NaN</td>\n      <td>NaN</td>\n    </tr>\n  </tbody>\n</table>\n</div>"
     },
     "metadata": {},
     "execution_count": 4
    }
   ],
   "source": [
    "import pandas as pd\n",
    "\n",
    "languages_countries_df = pd.read_html('https://en.wikipedia.org/wiki/List_of_official_languages_by_country_and_territory')[1]\n",
    "languages_countries_df.sample(10)"
   ]
  },
  {
   "cell_type": "code",
   "execution_count": 58,
   "metadata": {},
   "outputs": [
    {
     "output_type": "execute_result",
     "data": {
      "text/plain": [
       "0                                                   None\n",
       "1      Country(alpha_2='AF', alpha_3='AFG', name='Afg...\n",
       "2      Country(alpha_2='AL', alpha_3='ALB', name='Alb...\n",
       "3      Country(alpha_2='DZ', alpha_3='DZA', name='Alg...\n",
       "4      Country(alpha_2='AD', alpha_3='AND', name='And...\n",
       "                             ...                        \n",
       "228                                                 None\n",
       "229    Country(alpha_2='YE', alpha_3='YEM', name='Yem...\n",
       "230                                                 None\n",
       "231    Country(alpha_2='ZM', alpha_3='ZMB', name='Zam...\n",
       "232    Country(alpha_2='ZW', alpha_3='ZWE', name='Zim...\n",
       "Name: Country, Length: 233, dtype: object"
      ]
     },
     "metadata": {},
     "execution_count": 58
    }
   ],
   "source": [
    "import pycountry\n",
    "import string\n",
    "import re\n",
    "\n",
    "\n",
    "allow = string.ascii_letters\n",
    "\n",
    "def search_country(country):\n",
    "    try:\n",
    "        res = pycountry.countries.search_fuzzy(re.sub('[^%s]' % allow, '', country))\n",
    "        if len(res)==1:\n",
    "            return res[0]\n",
    "    except:\n",
    "        return None\n",
    "\n",
    "\n",
    "languages_countries_df['Country'].apply(search_country)"
   ]
  },
  {
   "cell_type": "code",
   "execution_count": 60,
   "metadata": {},
   "outputs": [
    {
     "output_type": "execute_result",
     "data": {
      "text/plain": [
       "0      None\n",
       "1      None\n",
       "2      None\n",
       "3      None\n",
       "4      None\n",
       "       ... \n",
       "228    None\n",
       "229    None\n",
       "230    None\n",
       "231    None\n",
       "232    None\n",
       "Name: Official language, Length: 233, dtype: object"
      ]
     },
     "metadata": {},
     "execution_count": 60
    }
   ],
   "source": [
    "def search_language(language):\n",
    "    try:\n",
    "        res = pycountry.languages.search_fuzzy(re.sub('[^%s]' % allow, '', language))\n",
    "        if len(res)==1:\n",
    "            return res[0]\n",
    "    except:\n",
    "        return None\n",
    "languages_countries_df['Official language'].apply(search_language)"
   ]
  },
  {
   "cell_type": "code",
   "execution_count": 62,
   "metadata": {},
   "outputs": [
    {
     "output_type": "error",
     "ename": "TypeError",
     "evalue": "get() takes 1 positional argument but 2 were given",
     "traceback": [
      "\u001b[0;31m---------------------------------------------------------------------------\u001b[0m",
      "\u001b[0;31mTypeError\u001b[0m                                 Traceback (most recent call last)",
      "\u001b[0;32m/tmp/ipykernel_1530/1365615920.py\u001b[0m in \u001b[0;36m<module>\u001b[0;34m\u001b[0m\n\u001b[0;32m----> 1\u001b[0;31m \u001b[0mpycountry\u001b[0m\u001b[0;34m.\u001b[0m\u001b[0mlanguages\u001b[0m\u001b[0;34m.\u001b[0m\u001b[0mget\u001b[0m\u001b[0;34m(\u001b[0m\u001b[0;34m'english'\u001b[0m\u001b[0;34m)\u001b[0m\u001b[0;34m\u001b[0m\u001b[0;34m\u001b[0m\u001b[0m\n\u001b[0m",
      "\u001b[0;32m/workspace/.pip-modules/lib/python3.8/site-packages/pycountry/db.py\u001b[0m in \u001b[0;36mload_if_needed\u001b[0;34m(self, *args, **kw)\u001b[0m\n\u001b[1;32m     39\u001b[0m             \u001b[0;32mwith\u001b[0m \u001b[0mself\u001b[0m\u001b[0;34m.\u001b[0m\u001b[0m_load_lock\u001b[0m\u001b[0;34m:\u001b[0m\u001b[0;34m\u001b[0m\u001b[0;34m\u001b[0m\u001b[0m\n\u001b[1;32m     40\u001b[0m                 \u001b[0mself\u001b[0m\u001b[0;34m.\u001b[0m\u001b[0m_load\u001b[0m\u001b[0;34m(\u001b[0m\u001b[0;34m)\u001b[0m\u001b[0;34m\u001b[0m\u001b[0;34m\u001b[0m\u001b[0m\n\u001b[0;32m---> 41\u001b[0;31m         \u001b[0;32mreturn\u001b[0m \u001b[0mf\u001b[0m\u001b[0;34m(\u001b[0m\u001b[0mself\u001b[0m\u001b[0;34m,\u001b[0m \u001b[0;34m*\u001b[0m\u001b[0margs\u001b[0m\u001b[0;34m,\u001b[0m \u001b[0;34m**\u001b[0m\u001b[0mkw\u001b[0m\u001b[0;34m)\u001b[0m\u001b[0;34m\u001b[0m\u001b[0;34m\u001b[0m\u001b[0m\n\u001b[0m\u001b[1;32m     42\u001b[0m     \u001b[0;32mreturn\u001b[0m \u001b[0mload_if_needed\u001b[0m\u001b[0;34m\u001b[0m\u001b[0;34m\u001b[0m\u001b[0m\n\u001b[1;32m     43\u001b[0m \u001b[0;34m\u001b[0m\u001b[0m\n",
      "\u001b[0;31mTypeError\u001b[0m: get() takes 1 positional argument but 2 were given"
     ]
    }
   ],
   "source": [
    "pycountry.languages.get('english')  "
   ]
  },
  {
   "cell_type": "code",
   "execution_count": 52,
   "metadata": {},
   "outputs": [
    {
     "output_type": "execute_result",
     "data": {
      "text/plain": [
       "0         Abkhazia[a]\n",
       "1      Afghanistan[1]\n",
       "2          Albania[2]\n",
       "3          Algeria[3]\n",
       "4             Andorra\n",
       "            ...      \n",
       "228           Country\n",
       "229             Yemen\n",
       "230           Country\n",
       "231            Zambia\n",
       "232          Zimbabwe\n",
       "Name: Country, Length: 233, dtype: object"
      ]
     },
     "metadata": {},
     "execution_count": 52
    }
   ],
   "source": [
    "languages_countries_df['Country']"
   ]
  },
  {
   "cell_type": "code",
   "execution_count": 63,
   "metadata": {},
   "outputs": [],
   "source": [
    "import lxml.etree\n",
    "import urllib.request\n",
    "\n",
    "def get_territory_languages():\n",
    "    url = \"https://raw.githubusercontent.com/unicode-org/cldr/master/common/supplemental/supplementalData.xml\"\n",
    "    langxml = urllib.request.urlopen(url)\n",
    "    langtree = lxml.etree.XML(langxml.read())\n",
    "\n",
    "    territory_languages = {}\n",
    "    for t in langtree.find('territoryInfo').findall('territory'):\n",
    "        langs = {}\n",
    "        for l in t.findall('languagePopulation'):\n",
    "            langs[l.get('type')] = {\n",
    "                'percent': float(l.get('populationPercent')),\n",
    "                'official': bool(l.get('officialStatus'))\n",
    "            }\n",
    "        territory_languages[t.get('type')] = langs\n",
    "    return territory_languages"
   ]
  },
  {
   "cell_type": "code",
   "execution_count": 87,
   "metadata": {},
   "outputs": [
    {
     "output_type": "execute_result",
     "data": {
      "text/plain": [
       "{'en': {'population_percent': 98.0, 'official_status': 'official'},\n",
       " 'jam': {'population_percent': 95.0, 'official_status': None}}"
      ]
     },
     "metadata": {},
     "execution_count": 87
    }
   ],
   "source": [
    "from babel.core import get_global\n",
    "\n",
    "get_global(\"territory_languages\").get('JM', {}).copy()\n",
    "#babel.languages.get_official_languages('nl')"
   ]
  },
  {
   "cell_type": "code",
   "execution_count": 73,
   "metadata": {},
   "outputs": [
    {
     "output_type": "execute_result",
     "data": {
      "text/plain": [
       "['Locale',\n",
       " 'UnknownLocaleError',\n",
       " '__builtins__',\n",
       " '__cached__',\n",
       " '__doc__',\n",
       " '__file__',\n",
       " '__loader__',\n",
       " '__name__',\n",
       " '__package__',\n",
       " '__path__',\n",
       " '__spec__',\n",
       " '__version__',\n",
       " '_compat',\n",
       " 'core',\n",
       " 'default_locale',\n",
       " 'get_locale_identifier',\n",
       " 'localedata',\n",
       " 'negotiate_locale',\n",
       " 'parse_locale',\n",
       " 'plural']"
      ]
     },
     "metadata": {},
     "execution_count": 73
    }
   ],
   "source": [
    "dir(babel)"
   ]
  },
  {
   "cell_type": "code",
   "execution_count": 66,
   "metadata": {},
   "outputs": [
    {
     "output_type": "execute_result",
     "data": {
      "text/plain": [
       "                                       AC  \\\n",
       "en   {'percent': 99.0, 'official': False}   \n",
       "ca                                    NaN   \n",
       "es                                    NaN   \n",
       "fr                                    NaN   \n",
       "ar                                    NaN   \n",
       "..                                    ...   \n",
       "loz                                   NaN   \n",
       "sn                                    NaN   \n",
       "nd                                    NaN   \n",
       "mxc                                   NaN   \n",
       "kck                                   NaN   \n",
       "\n",
       "                                       AD  \\\n",
       "en                                    NaN   \n",
       "ca    {'percent': 51.0, 'official': True}   \n",
       "es   {'percent': 43.0, 'official': False}   \n",
       "fr    {'percent': 7.5, 'official': False}   \n",
       "ar                                    NaN   \n",
       "..                                    ...   \n",
       "loz                                   NaN   \n",
       "sn                                    NaN   \n",
       "nd                                    NaN   \n",
       "mxc                                   NaN   \n",
       "kck                                   NaN   \n",
       "\n",
       "                                       AE   AF  \\\n",
       "en   {'percent': 50.0, 'official': False}  NaN   \n",
       "ca                                    NaN  NaN   \n",
       "es                                    NaN  NaN   \n",
       "fr                                    NaN  NaN   \n",
       "ar    {'percent': 78.0, 'official': True}  NaN   \n",
       "..                                    ...  ...   \n",
       "loz                                   NaN  NaN   \n",
       "sn                                    NaN  NaN   \n",
       "nd                                    NaN  NaN   \n",
       "mxc                                   NaN  NaN   \n",
       "kck                                   NaN  NaN   \n",
       "\n",
       "                                      AG                                   AI  \\\n",
       "en   {'percent': 86.0, 'official': True}  {'percent': 95.0, 'official': True}   \n",
       "ca                                   NaN                                  NaN   \n",
       "es                                   NaN                                  NaN   \n",
       "fr                                   NaN                                  NaN   \n",
       "ar                                   NaN                                  NaN   \n",
       "..                                   ...                                  ...   \n",
       "loz                                  NaN                                  NaN   \n",
       "sn                                   NaN                                  NaN   \n",
       "nd                                   NaN                                  NaN   \n",
       "mxc                                  NaN                                  NaN   \n",
       "kck                                  NaN                                  NaN   \n",
       "\n",
       "      AL   AM   AO   AQ  ...                                   VU  \\\n",
       "en   NaN  NaN  NaN  NaN  ...  {'percent': 83.0, 'official': True}   \n",
       "ca   NaN  NaN  NaN  NaN  ...                                  NaN   \n",
       "es   NaN  NaN  NaN  NaN  ...                                  NaN   \n",
       "fr   NaN  NaN  NaN  NaN  ...  {'percent': 50.0, 'official': True}   \n",
       "ar   NaN  NaN  NaN  NaN  ...                                  NaN   \n",
       "..   ...  ...  ...  ...  ...                                  ...   \n",
       "loz  NaN  NaN  NaN  NaN  ...                                  NaN   \n",
       "sn   NaN  NaN  NaN  NaN  ...                                  NaN   \n",
       "nd   NaN  NaN  NaN  NaN  ...                                  NaN   \n",
       "mxc  NaN  NaN  NaN  NaN  ...                                  NaN   \n",
       "kck  NaN  NaN  NaN  NaN  ...                                  NaN   \n",
       "\n",
       "                                      WF                                  WS  \\\n",
       "en                                   NaN  {'percent': 2.1, 'official': True}   \n",
       "ca                                   NaN                                 NaN   \n",
       "es                                   NaN                                 NaN   \n",
       "fr   {'percent': 48.0, 'official': True}                                 NaN   \n",
       "ar                                   NaN                                 NaN   \n",
       "..                                   ...                                 ...   \n",
       "loz                                  NaN                                 NaN   \n",
       "sn                                   NaN                                 NaN   \n",
       "nd                                   NaN                                 NaN   \n",
       "mxc                                  NaN                                 NaN   \n",
       "kck                                  NaN                                 NaN   \n",
       "\n",
       "      XK                                   YE  \\\n",
       "en   NaN  {'percent': 9.0, 'official': False}   \n",
       "ca   NaN                                  NaN   \n",
       "es   NaN                                  NaN   \n",
       "fr   NaN                                  NaN   \n",
       "ar   NaN  {'percent': 74.0, 'official': True}   \n",
       "..   ...                                  ...   \n",
       "loz  NaN                                  NaN   \n",
       "sn   NaN                                  NaN   \n",
       "nd   NaN                                  NaN   \n",
       "mxc  NaN                                  NaN   \n",
       "kck  NaN                                  NaN   \n",
       "\n",
       "                                      YT                                   ZA  \\\n",
       "en                                   NaN  {'percent': 31.0, 'official': True}   \n",
       "ca                                   NaN                                  NaN   \n",
       "es                                   NaN                                  NaN   \n",
       "fr   {'percent': 57.0, 'official': True}                                  NaN   \n",
       "ar                                   NaN                                  NaN   \n",
       "..                                   ...                                  ...   \n",
       "loz                                  NaN                                  NaN   \n",
       "sn                                   NaN                                  NaN   \n",
       "nd                                   NaN                                  NaN   \n",
       "mxc                                  NaN                                  NaN   \n",
       "kck                                  NaN                                  NaN   \n",
       "\n",
       "                                      ZM                                   ZW  \\\n",
       "en   {'percent': 16.0, 'official': True}  {'percent': 42.0, 'official': True}   \n",
       "ca                                   NaN                                  NaN   \n",
       "es                                   NaN                                  NaN   \n",
       "fr                                   NaN                                  NaN   \n",
       "ar                                   NaN                                  NaN   \n",
       "..                                   ...                                  ...   \n",
       "loz  {'percent': 6.0, 'official': False}                                  NaN   \n",
       "sn                                   NaN  {'percent': 81.0, 'official': True}   \n",
       "nd                                   NaN  {'percent': 12.0, 'official': True}   \n",
       "mxc                                  NaN  {'percent': 6.5, 'official': False}   \n",
       "kck                                  NaN  {'percent': 5.3, 'official': False}   \n",
       "\n",
       "      ZZ  \n",
       "en   NaN  \n",
       "ca   NaN  \n",
       "es   NaN  \n",
       "fr   NaN  \n",
       "ar   NaN  \n",
       "..   ...  \n",
       "loz  NaN  \n",
       "sn   NaN  \n",
       "nd   NaN  \n",
       "mxc  NaN  \n",
       "kck  NaN  \n",
       "\n",
       "[686 rows x 257 columns]"
      ],
      "text/html": "<div>\n<style scoped>\n    .dataframe tbody tr th:only-of-type {\n        vertical-align: middle;\n    }\n\n    .dataframe tbody tr th {\n        vertical-align: top;\n    }\n\n    .dataframe thead th {\n        text-align: right;\n    }\n</style>\n<table border=\"1\" class=\"dataframe\">\n  <thead>\n    <tr style=\"text-align: right;\">\n      <th></th>\n      <th>AC</th>\n      <th>AD</th>\n      <th>AE</th>\n      <th>AF</th>\n      <th>AG</th>\n      <th>AI</th>\n      <th>AL</th>\n      <th>AM</th>\n      <th>AO</th>\n      <th>AQ</th>\n      <th>...</th>\n      <th>VU</th>\n      <th>WF</th>\n      <th>WS</th>\n      <th>XK</th>\n      <th>YE</th>\n      <th>YT</th>\n      <th>ZA</th>\n      <th>ZM</th>\n      <th>ZW</th>\n      <th>ZZ</th>\n    </tr>\n  </thead>\n  <tbody>\n    <tr>\n      <th>en</th>\n      <td>{'percent': 99.0, 'official': False}</td>\n      <td>NaN</td>\n      <td>{'percent': 50.0, 'official': False}</td>\n      <td>NaN</td>\n      <td>{'percent': 86.0, 'official': True}</td>\n      <td>{'percent': 95.0, 'official': True}</td>\n      <td>NaN</td>\n      <td>NaN</td>\n      <td>NaN</td>\n      <td>NaN</td>\n      <td>...</td>\n      <td>{'percent': 83.0, 'official': True}</td>\n      <td>NaN</td>\n      <td>{'percent': 2.1, 'official': True}</td>\n      <td>NaN</td>\n      <td>{'percent': 9.0, 'official': False}</td>\n      <td>NaN</td>\n      <td>{'percent': 31.0, 'official': True}</td>\n      <td>{'percent': 16.0, 'official': True}</td>\n      <td>{'percent': 42.0, 'official': True}</td>\n      <td>NaN</td>\n    </tr>\n    <tr>\n      <th>ca</th>\n      <td>NaN</td>\n      <td>{'percent': 51.0, 'official': True}</td>\n      <td>NaN</td>\n      <td>NaN</td>\n      <td>NaN</td>\n      <td>NaN</td>\n      <td>NaN</td>\n      <td>NaN</td>\n      <td>NaN</td>\n      <td>NaN</td>\n      <td>...</td>\n      <td>NaN</td>\n      <td>NaN</td>\n      <td>NaN</td>\n      <td>NaN</td>\n      <td>NaN</td>\n      <td>NaN</td>\n      <td>NaN</td>\n      <td>NaN</td>\n      <td>NaN</td>\n      <td>NaN</td>\n    </tr>\n    <tr>\n      <th>es</th>\n      <td>NaN</td>\n      <td>{'percent': 43.0, 'official': False}</td>\n      <td>NaN</td>\n      <td>NaN</td>\n      <td>NaN</td>\n      <td>NaN</td>\n      <td>NaN</td>\n      <td>NaN</td>\n      <td>NaN</td>\n      <td>NaN</td>\n      <td>...</td>\n      <td>NaN</td>\n      <td>NaN</td>\n      <td>NaN</td>\n      <td>NaN</td>\n      <td>NaN</td>\n      <td>NaN</td>\n      <td>NaN</td>\n      <td>NaN</td>\n      <td>NaN</td>\n      <td>NaN</td>\n    </tr>\n    <tr>\n      <th>fr</th>\n      <td>NaN</td>\n      <td>{'percent': 7.5, 'official': False}</td>\n      <td>NaN</td>\n      <td>NaN</td>\n      <td>NaN</td>\n      <td>NaN</td>\n      <td>NaN</td>\n      <td>NaN</td>\n      <td>NaN</td>\n      <td>NaN</td>\n      <td>...</td>\n      <td>{'percent': 50.0, 'official': True}</td>\n      <td>{'percent': 48.0, 'official': True}</td>\n      <td>NaN</td>\n      <td>NaN</td>\n      <td>NaN</td>\n      <td>{'percent': 57.0, 'official': True}</td>\n      <td>NaN</td>\n      <td>NaN</td>\n      <td>NaN</td>\n      <td>NaN</td>\n    </tr>\n    <tr>\n      <th>ar</th>\n      <td>NaN</td>\n      <td>NaN</td>\n      <td>{'percent': 78.0, 'official': True}</td>\n      <td>NaN</td>\n      <td>NaN</td>\n      <td>NaN</td>\n      <td>NaN</td>\n      <td>NaN</td>\n      <td>NaN</td>\n      <td>NaN</td>\n      <td>...</td>\n      <td>NaN</td>\n      <td>NaN</td>\n      <td>NaN</td>\n      <td>NaN</td>\n      <td>{'percent': 74.0, 'official': True}</td>\n      <td>NaN</td>\n      <td>NaN</td>\n      <td>NaN</td>\n      <td>NaN</td>\n      <td>NaN</td>\n    </tr>\n    <tr>\n      <th>...</th>\n      <td>...</td>\n      <td>...</td>\n      <td>...</td>\n      <td>...</td>\n      <td>...</td>\n      <td>...</td>\n      <td>...</td>\n      <td>...</td>\n      <td>...</td>\n      <td>...</td>\n      <td>...</td>\n      <td>...</td>\n      <td>...</td>\n      <td>...</td>\n      <td>...</td>\n      <td>...</td>\n      <td>...</td>\n      <td>...</td>\n      <td>...</td>\n      <td>...</td>\n      <td>...</td>\n    </tr>\n    <tr>\n      <th>loz</th>\n      <td>NaN</td>\n      <td>NaN</td>\n      <td>NaN</td>\n      <td>NaN</td>\n      <td>NaN</td>\n      <td>NaN</td>\n      <td>NaN</td>\n      <td>NaN</td>\n      <td>NaN</td>\n      <td>NaN</td>\n      <td>...</td>\n      <td>NaN</td>\n      <td>NaN</td>\n      <td>NaN</td>\n      <td>NaN</td>\n      <td>NaN</td>\n      <td>NaN</td>\n      <td>NaN</td>\n      <td>{'percent': 6.0, 'official': False}</td>\n      <td>NaN</td>\n      <td>NaN</td>\n    </tr>\n    <tr>\n      <th>sn</th>\n      <td>NaN</td>\n      <td>NaN</td>\n      <td>NaN</td>\n      <td>NaN</td>\n      <td>NaN</td>\n      <td>NaN</td>\n      <td>NaN</td>\n      <td>NaN</td>\n      <td>NaN</td>\n      <td>NaN</td>\n      <td>...</td>\n      <td>NaN</td>\n      <td>NaN</td>\n      <td>NaN</td>\n      <td>NaN</td>\n      <td>NaN</td>\n      <td>NaN</td>\n      <td>NaN</td>\n      <td>NaN</td>\n      <td>{'percent': 81.0, 'official': True}</td>\n      <td>NaN</td>\n    </tr>\n    <tr>\n      <th>nd</th>\n      <td>NaN</td>\n      <td>NaN</td>\n      <td>NaN</td>\n      <td>NaN</td>\n      <td>NaN</td>\n      <td>NaN</td>\n      <td>NaN</td>\n      <td>NaN</td>\n      <td>NaN</td>\n      <td>NaN</td>\n      <td>...</td>\n      <td>NaN</td>\n      <td>NaN</td>\n      <td>NaN</td>\n      <td>NaN</td>\n      <td>NaN</td>\n      <td>NaN</td>\n      <td>NaN</td>\n      <td>NaN</td>\n      <td>{'percent': 12.0, 'official': True}</td>\n      <td>NaN</td>\n    </tr>\n    <tr>\n      <th>mxc</th>\n      <td>NaN</td>\n      <td>NaN</td>\n      <td>NaN</td>\n      <td>NaN</td>\n      <td>NaN</td>\n      <td>NaN</td>\n      <td>NaN</td>\n      <td>NaN</td>\n      <td>NaN</td>\n      <td>NaN</td>\n      <td>...</td>\n      <td>NaN</td>\n      <td>NaN</td>\n      <td>NaN</td>\n      <td>NaN</td>\n      <td>NaN</td>\n      <td>NaN</td>\n      <td>NaN</td>\n      <td>NaN</td>\n      <td>{'percent': 6.5, 'official': False}</td>\n      <td>NaN</td>\n    </tr>\n    <tr>\n      <th>kck</th>\n      <td>NaN</td>\n      <td>NaN</td>\n      <td>NaN</td>\n      <td>NaN</td>\n      <td>NaN</td>\n      <td>NaN</td>\n      <td>NaN</td>\n      <td>NaN</td>\n      <td>NaN</td>\n      <td>NaN</td>\n      <td>...</td>\n      <td>NaN</td>\n      <td>NaN</td>\n      <td>NaN</td>\n      <td>NaN</td>\n      <td>NaN</td>\n      <td>NaN</td>\n      <td>NaN</td>\n      <td>NaN</td>\n      <td>{'percent': 5.3, 'official': False}</td>\n      <td>NaN</td>\n    </tr>\n  </tbody>\n</table>\n<p>686 rows × 257 columns</p>\n</div>"
     },
     "metadata": {},
     "execution_count": 66
    }
   ],
   "source": [
    "pd.DataFrame(get_territory_languages())"
   ]
  },
  {
   "cell_type": "code",
   "execution_count": 50,
   "metadata": {},
   "outputs": [
    {
     "output_type": "error",
     "ename": "LookupError",
     "evalue": "abkhazia[a]",
     "traceback": [
      "\u001b[0;31m---------------------------------------------------------------------------\u001b[0m",
      "\u001b[0;31mLookupError\u001b[0m                               Traceback (most recent call last)",
      "\u001b[0;32m/tmp/ipykernel_1530/3299176754.py\u001b[0m in \u001b[0;36m<module>\u001b[0;34m\u001b[0m\n\u001b[1;32m      1\u001b[0m \u001b[0mcountry\u001b[0m \u001b[0;34m=\u001b[0m \u001b[0mlanguages_countries_df\u001b[0m\u001b[0;34m[\u001b[0m\u001b[0;34m'Country'\u001b[0m\u001b[0;34m]\u001b[0m\u001b[0;34m.\u001b[0m\u001b[0msample\u001b[0m\u001b[0;34m(\u001b[0m\u001b[0;34m)\u001b[0m\u001b[0;34m.\u001b[0m\u001b[0mvalues\u001b[0m\u001b[0;34m[\u001b[0m\u001b[0;36m0\u001b[0m\u001b[0;34m]\u001b[0m\u001b[0;34m\u001b[0m\u001b[0;34m\u001b[0m\u001b[0m\n\u001b[0;32m----> 2\u001b[0;31m \u001b[0;34m{\u001b[0m\u001b[0mcountry\u001b[0m\u001b[0;34m:\u001b[0m\u001b[0mpycountry\u001b[0m\u001b[0;34m.\u001b[0m\u001b[0mcountries\u001b[0m\u001b[0;34m.\u001b[0m\u001b[0msearch_fuzzy\u001b[0m\u001b[0;34m(\u001b[0m\u001b[0mcountry\u001b[0m\u001b[0;34m)\u001b[0m\u001b[0;34m}\u001b[0m\u001b[0;34m\u001b[0m\u001b[0;34m\u001b[0m\u001b[0m\n\u001b[0m",
      "\u001b[0;32m/workspace/.pip-modules/lib/python3.8/site-packages/pycountry/__init__.py\u001b[0m in \u001b[0;36msearch_fuzzy\u001b[0;34m(self, query)\u001b[0m\n\u001b[1;32m     91\u001b[0m \u001b[0;34m\u001b[0m\u001b[0m\n\u001b[1;32m     92\u001b[0m         \u001b[0;32mif\u001b[0m \u001b[0;32mnot\u001b[0m \u001b[0mresults\u001b[0m\u001b[0;34m:\u001b[0m\u001b[0;34m\u001b[0m\u001b[0;34m\u001b[0m\u001b[0m\n\u001b[0;32m---> 93\u001b[0;31m             \u001b[0;32mraise\u001b[0m \u001b[0mLookupError\u001b[0m\u001b[0;34m(\u001b[0m\u001b[0mquery\u001b[0m\u001b[0;34m)\u001b[0m\u001b[0;34m\u001b[0m\u001b[0;34m\u001b[0m\u001b[0m\n\u001b[0m\u001b[1;32m     94\u001b[0m \u001b[0;34m\u001b[0m\u001b[0m\n\u001b[1;32m     95\u001b[0m         results = [\n",
      "\u001b[0;31mLookupError\u001b[0m: abkhazia[a]"
     ]
    }
   ],
   "source": [
    "\n",
    "country = languages_countries_df['Country'].sample().values[0]\n",
    "{country:pycountry.countries.search_fuzzy(country)}"
   ]
  },
  {
   "cell_type": "code",
   "execution_count": null,
   "metadata": {},
   "outputs": [],
   "source": []
  }
 ]
}